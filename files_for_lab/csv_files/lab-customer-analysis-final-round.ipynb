{
 "cells": [
  {
   "cell_type": "code",
   "execution_count": 325,
   "id": "73306d28",
   "metadata": {},
   "outputs": [],
   "source": [
    "import pandas as pd\n",
    "import numpy as np\n",
    "import matplotlib.pyplot as plt\n",
    "import seaborn as sns\n",
    "from scipy import stats \n",
    "from sklearn.preprocessing import LabelEncoder \n",
    "from sklearn.preprocessing import MinMaxScaler\n",
    "from sklearn.model_selection import train_test_split\n",
    "from sklearn.preprocessing import OneHotEncoder\n",
    "import statsmodels.api as sm\n",
    "from sklearn.metrics import r2_score"
   ]
  },
  {
   "cell_type": "code",
   "execution_count": 326,
   "id": "b1f8f0c8",
   "metadata": {},
   "outputs": [],
   "source": [
    "data = pd.read_csv('marketing_customer_analysis.csv')"
   ]
  },
  {
   "cell_type": "code",
   "execution_count": 330,
   "id": "01f108d0",
   "metadata": {},
   "outputs": [],
   "source": [
    "def clean (data): \n",
    "    data.columns = data.columns.str.lower()\n",
    "\n",
    "    nulls = pd.DataFrame(data.isna().sum() / len(data)).reset_index()\n",
    "    nulls.columns = ['column_name', 'percent_nulls']\n",
    "    todrop = nulls[nulls['percent_nulls'] >= 0.6]['column_name'].values\n",
    "    data.drop(todrop, axis=1, inplace=True)\n",
    "    data.dropna(inplace=True)\n",
    "\n",
    "    data.drop(['effective to date'], axis=1, inplace=True)\n",
    "    data.drop(['customer'], axis=1, inplace=True)\n",
    "\n",
    "    sns.heatmap(data.corr(), annot=True, annot_kws={\"size\": 6})\n",
    "    plt.show()\n",
    "\n",
    "    numerical = data[['months since policy inception', 'customer lifetime value', 'income', 'monthly premium auto', 'months since last claim', 'months since policy inception']]\n",
    "    categorical = data[['coverage', 'gender', 'location code', 'sales channel', 'vehicle class', 'vehicle size']]\n",
    "    hybrid = data[['number of open complaints', 'number of policies', 'total claim amount']]\n",
    "\n",
    "    arr, lmbda = stats.boxcox(numerical['customer lifetime value'])\n",
    "    numerical['customer lifetime value'] = arr\n",
    "\n",
    "    numerical['income'] = np.where(numerical['income'] < 0, 0, numerical['income'])\n",
    "    numerical['income'] = numerical['income'].replace(0, numerical['income'].mean())\n",
    "\n",
    "    arr, lmbda = stats.boxcox(numerical['income'])\n",
    "    numerical['income'] = arr\n",
    "\n",
    "    arr, lmbda = stats.boxcox(numerical['monthly premium auto'])\n",
    "    numerical['monthly premium auto'] = arr\n",
    "\n",
    "    numerical['months since last claim'].fillna(0, inplace=True)\n",
    "    numerical['months since last claim'] = np.where(numerical['months since last claim'] < 0, 0, numerical['months since last claim'])\n",
    "    numerical['months since last claim'] = numerical['months since last claim'].replace(0, numerical['months since last claim'].mean())\n",
    "    arr, lmbda = stats.boxcox(numerical['months since last claim'])\n",
    "    numerical['months since last claim'] = arr\n",
    "\n",
    "    numerical['months since policy inception'] = np.where(numerical['months since policy inception'] < 0, 0, numerical['months since policy inception'])\n",
    "    numerical['months since policy inception'] = numerical['months since policy inception'].replace(0, numerical['months since policy inception'].mean())\n",
    "    arr, lmbda = stats.boxcox(numerical['months since policy inception'])\n",
    "    numerical['months since policy inception'] = arr\n",
    "\n",
    "    hybrid['number of open complaints'] = LabelEncoder().fit_transform(hybrid['number of open complaints'])\n",
    "    hybrid['number of policies'] = LabelEncoder().fit_transform(hybrid['number of policies'])\n",
    "    \n",
    "    final = pd.DataFrame(np.concatenate((numerical,categorical,hybrid),axis=1))\n",
    "    \n",
    "    X = final.drop(['total claim amount'],axis=1)\n",
    "    Y = final['total claim amount']  \n",
    "    \n",
    "    X_train, X_test, Y_train, Y_test =train_test_split(X,Y,test_size=0.4,random_state=100)\n",
    "\n",
    "    model = sm.OLS(Y_train, X_train).fit()\n",
    "    \n",
    "    predictions = model.predict(X_test)\n",
    "\n",
    "    r2_score(Y_test,predictions)\n",
    "\n",
    "    mae = mean_absolute_error(Y_test, predictions)\n",
    "\n",
    "    mse=mean_squared_error(Y_test,predictions)\n",
    "\n",
    "    return r2_score\n",
    "    "
   ]
  },
  {
   "cell_type": "code",
   "execution_count": null,
   "id": "75e6cdb5",
   "metadata": {},
   "outputs": [],
   "source": []
  },
  {
   "cell_type": "code",
   "execution_count": null,
   "id": "0ef62892",
   "metadata": {},
   "outputs": [],
   "source": [
    "\n",
    "    "
   ]
  },
  {
   "cell_type": "code",
   "execution_count": null,
   "id": "d3a881b2",
   "metadata": {},
   "outputs": [],
   "source": []
  },
  {
   "cell_type": "code",
   "execution_count": null,
   "id": "7c72fa41",
   "metadata": {},
   "outputs": [],
   "source": []
  },
  {
   "cell_type": "code",
   "execution_count": null,
   "id": "d8e441e0",
   "metadata": {},
   "outputs": [],
   "source": []
  },
  {
   "cell_type": "code",
   "execution_count": null,
   "id": "b2b2b687",
   "metadata": {},
   "outputs": [],
   "source": []
  }
 ],
 "metadata": {
  "kernelspec": {
   "display_name": "Python 3 (ipykernel)",
   "language": "python",
   "name": "python3"
  },
  "language_info": {
   "codemirror_mode": {
    "name": "ipython",
    "version": 3
   },
   "file_extension": ".py",
   "mimetype": "text/x-python",
   "name": "python",
   "nbconvert_exporter": "python",
   "pygments_lexer": "ipython3",
   "version": "3.9.13"
  }
 },
 "nbformat": 4,
 "nbformat_minor": 5
}
